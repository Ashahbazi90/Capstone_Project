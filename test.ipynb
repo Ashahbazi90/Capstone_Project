{
 "cells": [
  {
   "cell_type": "code",
   "execution_count": 1,
   "metadata": {},
   "outputs": [],
   "source": [
    "import pandas as pd\n",
    "import numpy as np"
   ]
  },
  {
   "cell_type": "code",
   "execution_count": 6,
   "metadata": {},
   "outputs": [
    {
     "data": {
      "text/plain": [
       "BTC-USD     1084\n",
       "ETH-USD     1084\n",
       "SOL-USD     1084\n",
       "ADA-USD     1084\n",
       "LINK-USD    1084\n",
       "LTC-USD     1084\n",
       "XRP-USD      343\n",
       "Name: product_id, dtype: int64"
      ]
     },
     "execution_count": 6,
     "metadata": {},
     "output_type": "execute_result"
    }
   ],
   "source": [
    "file_path = 'RAW_Data/main_data.csv'\n",
    "df = pd.read_csv(file_path)\n",
    "df['product_id'].value_counts()"
   ]
  },
  {
   "cell_type": "code",
   "execution_count": 17,
   "metadata": {},
   "outputs": [
    {
     "name": "stdout",
     "output_type": "stream",
     "text": [
      "datetime64[ns]\n"
     ]
    }
   ],
   "source": [
    "df['time'] = pd.to_datetime(df['time'])\n",
    "print(df['time'].dtype)"
   ]
  },
  {
   "cell_type": "code",
   "execution_count": 19,
   "metadata": {},
   "outputs": [
    {
     "data": {
      "text/html": [
       "<div>\n",
       "<style scoped>\n",
       "    .dataframe tbody tr th:only-of-type {\n",
       "        vertical-align: middle;\n",
       "    }\n",
       "\n",
       "    .dataframe tbody tr th {\n",
       "        vertical-align: top;\n",
       "    }\n",
       "\n",
       "    .dataframe thead th {\n",
       "        text-align: right;\n",
       "    }\n",
       "</style>\n",
       "<table border=\"1\" class=\"dataframe\">\n",
       "  <thead>\n",
       "    <tr style=\"text-align: right;\">\n",
       "      <th></th>\n",
       "      <th>Unnamed: 0</th>\n",
       "      <th>time</th>\n",
       "      <th>low</th>\n",
       "      <th>high</th>\n",
       "      <th>open</th>\n",
       "      <th>close</th>\n",
       "      <th>volume</th>\n",
       "      <th>price_change</th>\n",
       "      <th>average_price</th>\n",
       "      <th>volatitlity</th>\n",
       "      <th>product_id</th>\n",
       "    </tr>\n",
       "  </thead>\n",
       "  <tbody>\n",
       "    <tr>\n",
       "      <th>0</th>\n",
       "      <td>0</td>\n",
       "      <td>2021-12-27</td>\n",
       "      <td>50480.00</td>\n",
       "      <td>52100.00</td>\n",
       "      <td>50804.33</td>\n",
       "      <td>50717.77</td>\n",
       "      <td>11596.914682</td>\n",
       "      <td>-86.56</td>\n",
       "      <td>51290.000</td>\n",
       "      <td>3.209192</td>\n",
       "      <td>BTC-USD</td>\n",
       "    </tr>\n",
       "    <tr>\n",
       "      <th>1</th>\n",
       "      <td>1</td>\n",
       "      <td>2021-12-26</td>\n",
       "      <td>49460.00</td>\n",
       "      <td>51295.33</td>\n",
       "      <td>50428.31</td>\n",
       "      <td>50801.79</td>\n",
       "      <td>6863.394738</td>\n",
       "      <td>373.48</td>\n",
       "      <td>50377.665</td>\n",
       "      <td>3.710736</td>\n",
       "      <td>BTC-USD</td>\n",
       "    </tr>\n",
       "    <tr>\n",
       "      <th>2</th>\n",
       "      <td>2</td>\n",
       "      <td>2021-12-25</td>\n",
       "      <td>50191.84</td>\n",
       "      <td>51171.68</td>\n",
       "      <td>50852.31</td>\n",
       "      <td>50428.31</td>\n",
       "      <td>5550.571532</td>\n",
       "      <td>-424.00</td>\n",
       "      <td>50681.760</td>\n",
       "      <td>1.952190</td>\n",
       "      <td>BTC-USD</td>\n",
       "    </tr>\n",
       "    <tr>\n",
       "      <th>3</th>\n",
       "      <td>3</td>\n",
       "      <td>2021-12-24</td>\n",
       "      <td>50445.55</td>\n",
       "      <td>51878.60</td>\n",
       "      <td>50842.06</td>\n",
       "      <td>50851.38</td>\n",
       "      <td>11690.454182</td>\n",
       "      <td>9.32</td>\n",
       "      <td>51162.075</td>\n",
       "      <td>2.840786</td>\n",
       "      <td>BTC-USD</td>\n",
       "    </tr>\n",
       "    <tr>\n",
       "      <th>4</th>\n",
       "      <td>4</td>\n",
       "      <td>2021-12-23</td>\n",
       "      <td>48032.16</td>\n",
       "      <td>51397.82</td>\n",
       "      <td>48608.61</td>\n",
       "      <td>50842.20</td>\n",
       "      <td>16627.046280</td>\n",
       "      <td>2233.59</td>\n",
       "      <td>49714.990</td>\n",
       "      <td>7.007097</td>\n",
       "      <td>BTC-USD</td>\n",
       "    </tr>\n",
       "  </tbody>\n",
       "</table>\n",
       "</div>"
      ],
      "text/plain": [
       "   Unnamed: 0       time       low      high      open     close  \\\n",
       "0           0 2021-12-27  50480.00  52100.00  50804.33  50717.77   \n",
       "1           1 2021-12-26  49460.00  51295.33  50428.31  50801.79   \n",
       "2           2 2021-12-25  50191.84  51171.68  50852.31  50428.31   \n",
       "3           3 2021-12-24  50445.55  51878.60  50842.06  50851.38   \n",
       "4           4 2021-12-23  48032.16  51397.82  48608.61  50842.20   \n",
       "\n",
       "         volume  price_change  average_price  volatitlity product_id  \n",
       "0  11596.914682        -86.56      51290.000     3.209192    BTC-USD  \n",
       "1   6863.394738        373.48      50377.665     3.710736    BTC-USD  \n",
       "2   5550.571532       -424.00      50681.760     1.952190    BTC-USD  \n",
       "3  11690.454182          9.32      51162.075     2.840786    BTC-USD  \n",
       "4  16627.046280       2233.59      49714.990     7.007097    BTC-USD  "
      ]
     },
     "execution_count": 19,
     "metadata": {},
     "output_type": "execute_result"
    }
   ],
   "source": [
    "df.head()"
   ]
  }
 ],
 "metadata": {
  "kernelspec": {
   "display_name": "cloud_compute",
   "language": "python",
   "name": "python3"
  },
  "language_info": {
   "codemirror_mode": {
    "name": "ipython",
    "version": 3
   },
   "file_extension": ".py",
   "mimetype": "text/x-python",
   "name": "python",
   "nbconvert_exporter": "python",
   "pygments_lexer": "ipython3",
   "version": "3.7.7"
  }
 },
 "nbformat": 4,
 "nbformat_minor": 2
}
